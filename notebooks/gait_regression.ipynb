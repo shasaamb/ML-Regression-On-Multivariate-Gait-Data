{
  "cells": [
    {
      "cell_type": "markdown",
      "metadata": {
        "id": "h66ISNccjy_x"
      },
      "source": [
        "# <center>Project-Based Assignment CLO-2</center>"
      ]
    },
    {
      "cell_type": "markdown",
      "metadata": {
        "id": "1fd-9KuGj35K"
      },
      "source": [
        "<b>Topik</b>\n",
        "Implementation of Supervised Learning on Regression Task\n",
        "\n",
        "<b>Anggota Kelompok</b>\n",
        "1. Chairunnisa Mahadewi Budi Santosa - 1301213104\n",
        "2. Dian Syafilla                     - 1301213229\n",
        "3. Syifa Fatimah Azzahra             - 1301213487"
      ]
    },
    {
      "cell_type": "markdown",
      "metadata": {
        "id": "VqN7tZ91qNhe"
      },
      "source": [
        "# Latar Belakang"
      ]
    },
    {
      "cell_type": "markdown",
      "metadata": {
        "id": "8EC1Jr64qP3u"
      },
      "source": [
        "Untuk projek CLO 2: Supervised Learning on Regression Task, kami memilih Multivariate Gait Data yang merupakan *six dimentional* dataset (10 subjek, 3 kondisi, 10 kali perulangan, 2 kaki, 3 sendi, dan 101 waktu) dari data *joint angle*. Data ini didapatkan dari hasil studi atas 10 subjek dengan 3 kondisi berbeda, yaitu normal (*unbraced*), *knee-braced* di lutut kanan, dan *ankle-braced* di pergelangan kaki kanan di atas *treadmill*.\n",
        "\n",
        "Pada setiap subjek dan kondisi, siklus gait dilakukan sebanyak 10 kali perulangan dimana setiap siklus dimulai dan diakhiri dengan *heel-strike* (tumit menyentuh lantai terlebih dahulu). Waktu di semua siklus dinormalisasikan menjadi 101 waktu yang merepresentasikan 0%, ..., 100% siklus gait. *Joint angle* yang disertakan merupakan kombinasi dari kaki (kiri dan kanan) serta sendi (pergelangan kaki, lutut, dan pinggul).\n",
        "\n",
        "Tipe data yang digunakan pada 6 *features* adalah kategorik (*sequential*) dan 1 *feature* bertipe *real*. Totalnya terdapat 7 *features* dengan 181800 *instances* tanpa missing value.\n",
        "\n",
        "Kami akan mengolah dan melatih dataset ini untuk kemudian melakukan prediksi terhadap besar *angle* (sudut) berdasarkan besaran *angle* sebelumnya (*univariate*) dan perhitungan *features* lainnya (*multivariate*) dengan menggunakan pendekatan RNN, GRU, dan LSTM. Diantara ketiga pendekatan sebelumnya, kami akan melihat pendekatan mana yang paling tepat dalam prediksinya."
      ]
    },
    {
      "cell_type": "markdown",
      "metadata": {
        "id": "lNi5h6q-TTf4"
      },
      "source": [
        "#Import Library & Dataset  "
      ]
    },
    {
      "cell_type": "code",
      "execution_count": null,
      "metadata": {
        "id": "j3MmdB_W6kLW"
      },
      "outputs": [],
      "source": [
        "import matplotlib.pyplot as plt\n",
        "import tensorflow as tf\n",
        "import pandas as pd\n",
        "import numpy as np\n",
        "import os"
      ]
    },
    {
      "cell_type": "code",
      "execution_count": null,
      "metadata": {
        "colab": {
          "base_uri": "https://localhost:8080/",
          "height": 423
        },
        "id": "Hy3Yphhp6QjV",
        "outputId": "5cea9362-b342-4fdf-ad77-0f2f9157dc8f"
      },
      "outputs": [
        {
          "output_type": "execute_result",
          "data": {
            "text/plain": [
              "        subject  condition  replication  leg  joint  time      angle\n",
              "0             1          1            1    1      1     0   4.682881\n",
              "1             1          1            1    1      1     1   5.073127\n",
              "2             1          1            1    1      1     2   5.229774\n",
              "3             1          1            1    1      1     3   5.083273\n",
              "4             1          1            1    1      1     4   4.652399\n",
              "...         ...        ...          ...  ...    ...   ...        ...\n",
              "181795       10          3           10    2      3    96  29.778412\n",
              "181796       10          3           10    2      3    97  29.247559\n",
              "181797       10          3           10    2      3    98  28.796951\n",
              "181798       10          3           10    2      3    99  28.432936\n",
              "181799       10          3           10    2      3   100  28.136438\n",
              "\n",
              "[181800 rows x 7 columns]"
            ],
            "text/html": [
              "\n",
              "  <div id=\"df-9dd82836-1b16-4932-a918-c07ad53fbd05\" class=\"colab-df-container\">\n",
              "    <div>\n",
              "<style scoped>\n",
              "    .dataframe tbody tr th:only-of-type {\n",
              "        vertical-align: middle;\n",
              "    }\n",
              "\n",
              "    .dataframe tbody tr th {\n",
              "        vertical-align: top;\n",
              "    }\n",
              "\n",
              "    .dataframe thead th {\n",
              "        text-align: right;\n",
              "    }\n",
              "</style>\n",
              "<table border=\"1\" class=\"dataframe\">\n",
              "  <thead>\n",
              "    <tr style=\"text-align: right;\">\n",
              "      <th></th>\n",
              "      <th>subject</th>\n",
              "      <th>condition</th>\n",
              "      <th>replication</th>\n",
              "      <th>leg</th>\n",
              "      <th>joint</th>\n",
              "      <th>time</th>\n",
              "      <th>angle</th>\n",
              "    </tr>\n",
              "  </thead>\n",
              "  <tbody>\n",
              "    <tr>\n",
              "      <th>0</th>\n",
              "      <td>1</td>\n",
              "      <td>1</td>\n",
              "      <td>1</td>\n",
              "      <td>1</td>\n",
              "      <td>1</td>\n",
              "      <td>0</td>\n",
              "      <td>4.682881</td>\n",
              "    </tr>\n",
              "    <tr>\n",
              "      <th>1</th>\n",
              "      <td>1</td>\n",
              "      <td>1</td>\n",
              "      <td>1</td>\n",
              "      <td>1</td>\n",
              "      <td>1</td>\n",
              "      <td>1</td>\n",
              "      <td>5.073127</td>\n",
              "    </tr>\n",
              "    <tr>\n",
              "      <th>2</th>\n",
              "      <td>1</td>\n",
              "      <td>1</td>\n",
              "      <td>1</td>\n",
              "      <td>1</td>\n",
              "      <td>1</td>\n",
              "      <td>2</td>\n",
              "      <td>5.229774</td>\n",
              "    </tr>\n",
              "    <tr>\n",
              "      <th>3</th>\n",
              "      <td>1</td>\n",
              "      <td>1</td>\n",
              "      <td>1</td>\n",
              "      <td>1</td>\n",
              "      <td>1</td>\n",
              "      <td>3</td>\n",
              "      <td>5.083273</td>\n",
              "    </tr>\n",
              "    <tr>\n",
              "      <th>4</th>\n",
              "      <td>1</td>\n",
              "      <td>1</td>\n",
              "      <td>1</td>\n",
              "      <td>1</td>\n",
              "      <td>1</td>\n",
              "      <td>4</td>\n",
              "      <td>4.652399</td>\n",
              "    </tr>\n",
              "    <tr>\n",
              "      <th>...</th>\n",
              "      <td>...</td>\n",
              "      <td>...</td>\n",
              "      <td>...</td>\n",
              "      <td>...</td>\n",
              "      <td>...</td>\n",
              "      <td>...</td>\n",
              "      <td>...</td>\n",
              "    </tr>\n",
              "    <tr>\n",
              "      <th>181795</th>\n",
              "      <td>10</td>\n",
              "      <td>3</td>\n",
              "      <td>10</td>\n",
              "      <td>2</td>\n",
              "      <td>3</td>\n",
              "      <td>96</td>\n",
              "      <td>29.778412</td>\n",
              "    </tr>\n",
              "    <tr>\n",
              "      <th>181796</th>\n",
              "      <td>10</td>\n",
              "      <td>3</td>\n",
              "      <td>10</td>\n",
              "      <td>2</td>\n",
              "      <td>3</td>\n",
              "      <td>97</td>\n",
              "      <td>29.247559</td>\n",
              "    </tr>\n",
              "    <tr>\n",
              "      <th>181797</th>\n",
              "      <td>10</td>\n",
              "      <td>3</td>\n",
              "      <td>10</td>\n",
              "      <td>2</td>\n",
              "      <td>3</td>\n",
              "      <td>98</td>\n",
              "      <td>28.796951</td>\n",
              "    </tr>\n",
              "    <tr>\n",
              "      <th>181798</th>\n",
              "      <td>10</td>\n",
              "      <td>3</td>\n",
              "      <td>10</td>\n",
              "      <td>2</td>\n",
              "      <td>3</td>\n",
              "      <td>99</td>\n",
              "      <td>28.432936</td>\n",
              "    </tr>\n",
              "    <tr>\n",
              "      <th>181799</th>\n",
              "      <td>10</td>\n",
              "      <td>3</td>\n",
              "      <td>10</td>\n",
              "      <td>2</td>\n",
              "      <td>3</td>\n",
              "      <td>100</td>\n",
              "      <td>28.136438</td>\n",
              "    </tr>\n",
              "  </tbody>\n",
              "</table>\n",
              "<p>181800 rows × 7 columns</p>\n",
              "</div>\n",
              "    <div class=\"colab-df-buttons\">\n",
              "\n",
              "  <div class=\"colab-df-container\">\n",
              "    <button class=\"colab-df-convert\" onclick=\"convertToInteractive('df-9dd82836-1b16-4932-a918-c07ad53fbd05')\"\n",
              "            title=\"Convert this dataframe to an interactive table.\"\n",
              "            style=\"display:none;\">\n",
              "\n",
              "  <svg xmlns=\"http://www.w3.org/2000/svg\" height=\"24px\" viewBox=\"0 -960 960 960\">\n",
              "    <path d=\"M120-120v-720h720v720H120Zm60-500h600v-160H180v160Zm220 220h160v-160H400v160Zm0 220h160v-160H400v160ZM180-400h160v-160H180v160Zm440 0h160v-160H620v160ZM180-180h160v-160H180v160Zm440 0h160v-160H620v160Z\"/>\n",
              "  </svg>\n",
              "    </button>\n",
              "\n",
              "  <style>\n",
              "    .colab-df-container {\n",
              "      display:flex;\n",
              "      gap: 12px;\n",
              "    }\n",
              "\n",
              "    .colab-df-convert {\n",
              "      background-color: #E8F0FE;\n",
              "      border: none;\n",
              "      border-radius: 50%;\n",
              "      cursor: pointer;\n",
              "      display: none;\n",
              "      fill: #1967D2;\n",
              "      height: 32px;\n",
              "      padding: 0 0 0 0;\n",
              "      width: 32px;\n",
              "    }\n",
              "\n",
              "    .colab-df-convert:hover {\n",
              "      background-color: #E2EBFA;\n",
              "      box-shadow: 0px 1px 2px rgba(60, 64, 67, 0.3), 0px 1px 3px 1px rgba(60, 64, 67, 0.15);\n",
              "      fill: #174EA6;\n",
              "    }\n",
              "\n",
              "    .colab-df-buttons div {\n",
              "      margin-bottom: 4px;\n",
              "    }\n",
              "\n",
              "    [theme=dark] .colab-df-convert {\n",
              "      background-color: #3B4455;\n",
              "      fill: #D2E3FC;\n",
              "    }\n",
              "\n",
              "    [theme=dark] .colab-df-convert:hover {\n",
              "      background-color: #434B5C;\n",
              "      box-shadow: 0px 1px 3px 1px rgba(0, 0, 0, 0.15);\n",
              "      filter: drop-shadow(0px 1px 2px rgba(0, 0, 0, 0.3));\n",
              "      fill: #FFFFFF;\n",
              "    }\n",
              "  </style>\n",
              "\n",
              "    <script>\n",
              "      const buttonEl =\n",
              "        document.querySelector('#df-9dd82836-1b16-4932-a918-c07ad53fbd05 button.colab-df-convert');\n",
              "      buttonEl.style.display =\n",
              "        google.colab.kernel.accessAllowed ? 'block' : 'none';\n",
              "\n",
              "      async function convertToInteractive(key) {\n",
              "        const element = document.querySelector('#df-9dd82836-1b16-4932-a918-c07ad53fbd05');\n",
              "        const dataTable =\n",
              "          await google.colab.kernel.invokeFunction('convertToInteractive',\n",
              "                                                    [key], {});\n",
              "        if (!dataTable) return;\n",
              "\n",
              "        const docLinkHtml = 'Like what you see? Visit the ' +\n",
              "          '<a target=\"_blank\" href=https://colab.research.google.com/notebooks/data_table.ipynb>data table notebook</a>'\n",
              "          + ' to learn more about interactive tables.';\n",
              "        element.innerHTML = '';\n",
              "        dataTable['output_type'] = 'display_data';\n",
              "        await google.colab.output.renderOutput(dataTable, element);\n",
              "        const docLink = document.createElement('div');\n",
              "        docLink.innerHTML = docLinkHtml;\n",
              "        element.appendChild(docLink);\n",
              "      }\n",
              "    </script>\n",
              "  </div>\n",
              "\n",
              "\n",
              "<div id=\"df-fd4b3ab7-1a15-46b2-8872-6a50a014c075\">\n",
              "  <button class=\"colab-df-quickchart\" onclick=\"quickchart('df-fd4b3ab7-1a15-46b2-8872-6a50a014c075')\"\n",
              "            title=\"Suggest charts\"\n",
              "            style=\"display:none;\">\n",
              "\n",
              "<svg xmlns=\"http://www.w3.org/2000/svg\" height=\"24px\"viewBox=\"0 0 24 24\"\n",
              "     width=\"24px\">\n",
              "    <g>\n",
              "        <path d=\"M19 3H5c-1.1 0-2 .9-2 2v14c0 1.1.9 2 2 2h14c1.1 0 2-.9 2-2V5c0-1.1-.9-2-2-2zM9 17H7v-7h2v7zm4 0h-2V7h2v10zm4 0h-2v-4h2v4z\"/>\n",
              "    </g>\n",
              "</svg>\n",
              "  </button>\n",
              "\n",
              "<style>\n",
              "  .colab-df-quickchart {\n",
              "      --bg-color: #E8F0FE;\n",
              "      --fill-color: #1967D2;\n",
              "      --hover-bg-color: #E2EBFA;\n",
              "      --hover-fill-color: #174EA6;\n",
              "      --disabled-fill-color: #AAA;\n",
              "      --disabled-bg-color: #DDD;\n",
              "  }\n",
              "\n",
              "  [theme=dark] .colab-df-quickchart {\n",
              "      --bg-color: #3B4455;\n",
              "      --fill-color: #D2E3FC;\n",
              "      --hover-bg-color: #434B5C;\n",
              "      --hover-fill-color: #FFFFFF;\n",
              "      --disabled-bg-color: #3B4455;\n",
              "      --disabled-fill-color: #666;\n",
              "  }\n",
              "\n",
              "  .colab-df-quickchart {\n",
              "    background-color: var(--bg-color);\n",
              "    border: none;\n",
              "    border-radius: 50%;\n",
              "    cursor: pointer;\n",
              "    display: none;\n",
              "    fill: var(--fill-color);\n",
              "    height: 32px;\n",
              "    padding: 0;\n",
              "    width: 32px;\n",
              "  }\n",
              "\n",
              "  .colab-df-quickchart:hover {\n",
              "    background-color: var(--hover-bg-color);\n",
              "    box-shadow: 0 1px 2px rgba(60, 64, 67, 0.3), 0 1px 3px 1px rgba(60, 64, 67, 0.15);\n",
              "    fill: var(--button-hover-fill-color);\n",
              "  }\n",
              "\n",
              "  .colab-df-quickchart-complete:disabled,\n",
              "  .colab-df-quickchart-complete:disabled:hover {\n",
              "    background-color: var(--disabled-bg-color);\n",
              "    fill: var(--disabled-fill-color);\n",
              "    box-shadow: none;\n",
              "  }\n",
              "\n",
              "  .colab-df-spinner {\n",
              "    border: 2px solid var(--fill-color);\n",
              "    border-color: transparent;\n",
              "    border-bottom-color: var(--fill-color);\n",
              "    animation:\n",
              "      spin 1s steps(1) infinite;\n",
              "  }\n",
              "\n",
              "  @keyframes spin {\n",
              "    0% {\n",
              "      border-color: transparent;\n",
              "      border-bottom-color: var(--fill-color);\n",
              "      border-left-color: var(--fill-color);\n",
              "    }\n",
              "    20% {\n",
              "      border-color: transparent;\n",
              "      border-left-color: var(--fill-color);\n",
              "      border-top-color: var(--fill-color);\n",
              "    }\n",
              "    30% {\n",
              "      border-color: transparent;\n",
              "      border-left-color: var(--fill-color);\n",
              "      border-top-color: var(--fill-color);\n",
              "      border-right-color: var(--fill-color);\n",
              "    }\n",
              "    40% {\n",
              "      border-color: transparent;\n",
              "      border-right-color: var(--fill-color);\n",
              "      border-top-color: var(--fill-color);\n",
              "    }\n",
              "    60% {\n",
              "      border-color: transparent;\n",
              "      border-right-color: var(--fill-color);\n",
              "    }\n",
              "    80% {\n",
              "      border-color: transparent;\n",
              "      border-right-color: var(--fill-color);\n",
              "      border-bottom-color: var(--fill-color);\n",
              "    }\n",
              "    90% {\n",
              "      border-color: transparent;\n",
              "      border-bottom-color: var(--fill-color);\n",
              "    }\n",
              "  }\n",
              "</style>\n",
              "\n",
              "  <script>\n",
              "    async function quickchart(key) {\n",
              "      const quickchartButtonEl =\n",
              "        document.querySelector('#' + key + ' button');\n",
              "      quickchartButtonEl.disabled = true;  // To prevent multiple clicks.\n",
              "      quickchartButtonEl.classList.add('colab-df-spinner');\n",
              "      try {\n",
              "        const charts = await google.colab.kernel.invokeFunction(\n",
              "            'suggestCharts', [key], {});\n",
              "      } catch (error) {\n",
              "        console.error('Error during call to suggestCharts:', error);\n",
              "      }\n",
              "      quickchartButtonEl.classList.remove('colab-df-spinner');\n",
              "      quickchartButtonEl.classList.add('colab-df-quickchart-complete');\n",
              "    }\n",
              "    (() => {\n",
              "      let quickchartButtonEl =\n",
              "        document.querySelector('#df-fd4b3ab7-1a15-46b2-8872-6a50a014c075 button');\n",
              "      quickchartButtonEl.style.display =\n",
              "        google.colab.kernel.accessAllowed ? 'block' : 'none';\n",
              "    })();\n",
              "  </script>\n",
              "</div>\n",
              "    </div>\n",
              "  </div>\n"
            ]
          },
          "metadata": {},
          "execution_count": 3
        }
      ],
      "source": [
        "url = \"https://drive.google.com/uc?id=1rObfPZanjgRLXKv5CA0TZM91uIWI1_qQ\"\n",
        "df = pd.read_csv(url)\n",
        "df"
      ]
    },
    {
      "cell_type": "markdown",
      "metadata": {
        "id": "BYxAdk397j2E"
      },
      "source": [
        "**Deskripsi Features pada Database**\n",
        "1. Subject: 1 = subject 1, …, 10 = subject 10 (integer)\n",
        "2. Condition: 1 = unbraced, 2 = knee brace, 3 = ankle brace (integer)\n",
        "3. Replication: 1 = replication 1, …, 10 = replication 10 (integer)\n",
        "4. Leg: 1 = left, 2 = right (integer)\n",
        "5. Joint: 1 = ankle, 2 = knee, 3 = hip (integer)\n",
        "6. Time: 0 = 0% gait cycle, …, 100 = 100% gait cycle (integer)\n",
        "7. Angle: joint angle in degrees (real valued)"
      ]
    },
    {
      "cell_type": "markdown",
      "metadata": {
        "id": "G7TWmlL6v8Jq"
      },
      "source": [
        "#Ringakasan Metode"
      ]
    },
    {
      "cell_type": "markdown",
      "metadata": {
        "id": "cDXsMn5zv_8G"
      },
      "source": [
        "Berdasarkan hasil eksplorasi data, kami melihat bahwasannya dataset kami bersifat *time-sequence*, sehingga lebih cocok apabila menggunakan pedekatan RNN. Sebagai pembanding, kami juga menggunakan 2 pendekatan lainnya yang efektif dalam menangani data *time-sequence*, yaitu GRU dan LSTM."
      ]
    },
    {
      "cell_type": "markdown",
      "metadata": {
        "id": "yJU3jEsEM2VY"
      },
      "source": [
        "###Data Eksplorasi"
      ]
    },
    {
      "cell_type": "code",
      "execution_count": null,
      "metadata": {
        "colab": {
          "base_uri": "https://localhost:8080/",
          "height": 206
        },
        "id": "NE6aUOsx5ldz",
        "outputId": "312e9234-2331-493e-d9c9-23be6ca984b3"
      },
      "outputs": [
        {
          "output_type": "execute_result",
          "data": {
            "text/plain": [
              "   subject  condition  replication  leg  joint  time     angle\n",
              "0        1          1            1    1      1     0  4.682881\n",
              "1        1          1            1    1      1     1  5.073127\n",
              "2        1          1            1    1      1     2  5.229774\n",
              "3        1          1            1    1      1     3  5.083273\n",
              "4        1          1            1    1      1     4  4.652399"
            ],
            "text/html": [
              "\n",
              "  <div id=\"df-6c005b43-f084-4dc2-97f2-3879f68295dc\" class=\"colab-df-container\">\n",
              "    <div>\n",
              "<style scoped>\n",
              "    .dataframe tbody tr th:only-of-type {\n",
              "        vertical-align: middle;\n",
              "    }\n",
              "\n",
              "    .dataframe tbody tr th {\n",
              "        vertical-align: top;\n",
              "    }\n",
              "\n",
              "    .dataframe thead th {\n",
              "        text-align: right;\n",
              "    }\n",
              "</style>\n",
              "<table border=\"1\" class=\"dataframe\">\n",
              "  <thead>\n",
              "    <tr style=\"text-align: right;\">\n",
              "      <th></th>\n",
              "      <th>subject</th>\n",
              "      <th>condition</th>\n",
              "      <th>replication</th>\n",
              "      <th>leg</th>\n",
              "      <th>joint</th>\n",
              "      <th>time</th>\n",
              "      <th>angle</th>\n",
              "    </tr>\n",
              "  </thead>\n",
              "  <tbody>\n",
              "    <tr>\n",
              "      <th>0</th>\n",
              "      <td>1</td>\n",
              "      <td>1</td>\n",
              "      <td>1</td>\n",
              "      <td>1</td>\n",
              "      <td>1</td>\n",
              "      <td>0</td>\n",
              "      <td>4.682881</td>\n",
              "    </tr>\n",
              "    <tr>\n",
              "      <th>1</th>\n",
              "      <td>1</td>\n",
              "      <td>1</td>\n",
              "      <td>1</td>\n",
              "      <td>1</td>\n",
              "      <td>1</td>\n",
              "      <td>1</td>\n",
              "      <td>5.073127</td>\n",
              "    </tr>\n",
              "    <tr>\n",
              "      <th>2</th>\n",
              "      <td>1</td>\n",
              "      <td>1</td>\n",
              "      <td>1</td>\n",
              "      <td>1</td>\n",
              "      <td>1</td>\n",
              "      <td>2</td>\n",
              "      <td>5.229774</td>\n",
              "    </tr>\n",
              "    <tr>\n",
              "      <th>3</th>\n",
              "      <td>1</td>\n",
              "      <td>1</td>\n",
              "      <td>1</td>\n",
              "      <td>1</td>\n",
              "      <td>1</td>\n",
              "      <td>3</td>\n",
              "      <td>5.083273</td>\n",
              "    </tr>\n",
              "    <tr>\n",
              "      <th>4</th>\n",
              "      <td>1</td>\n",
              "      <td>1</td>\n",
              "      <td>1</td>\n",
              "      <td>1</td>\n",
              "      <td>1</td>\n",
              "      <td>4</td>\n",
              "      <td>4.652399</td>\n",
              "    </tr>\n",
              "  </tbody>\n",
              "</table>\n",
              "</div>\n",
              "    <div class=\"colab-df-buttons\">\n",
              "\n",
              "  <div class=\"colab-df-container\">\n",
              "    <button class=\"colab-df-convert\" onclick=\"convertToInteractive('df-6c005b43-f084-4dc2-97f2-3879f68295dc')\"\n",
              "            title=\"Convert this dataframe to an interactive table.\"\n",
              "            style=\"display:none;\">\n",
              "\n",
              "  <svg xmlns=\"http://www.w3.org/2000/svg\" height=\"24px\" viewBox=\"0 -960 960 960\">\n",
              "    <path d=\"M120-120v-720h720v720H120Zm60-500h600v-160H180v160Zm220 220h160v-160H400v160Zm0 220h160v-160H400v160ZM180-400h160v-160H180v160Zm440 0h160v-160H620v160ZM180-180h160v-160H180v160Zm440 0h160v-160H620v160Z\"/>\n",
              "  </svg>\n",
              "    </button>\n",
              "\n",
              "  <style>\n",
              "    .colab-df-container {\n",
              "      display:flex;\n",
              "      gap: 12px;\n",
              "    }\n",
              "\n",
              "    .colab-df-convert {\n",
              "      background-color: #E8F0FE;\n",
              "      border: none;\n",
              "      border-radius: 50%;\n",
              "      cursor: pointer;\n",
              "      display: none;\n",
              "      fill: #1967D2;\n",
              "      height: 32px;\n",
              "      padding: 0 0 0 0;\n",
              "      width: 32px;\n",
              "    }\n",
              "\n",
              "    .colab-df-convert:hover {\n",
              "      background-color: #E2EBFA;\n",
              "      box-shadow: 0px 1px 2px rgba(60, 64, 67, 0.3), 0px 1px 3px 1px rgba(60, 64, 67, 0.15);\n",
              "      fill: #174EA6;\n",
              "    }\n",
              "\n",
              "    .colab-df-buttons div {\n",
              "      margin-bottom: 4px;\n",
              "    }\n",
              "\n",
              "    [theme=dark] .colab-df-convert {\n",
              "      background-color: #3B4455;\n",
              "      fill: #D2E3FC;\n",
              "    }\n",
              "\n",
              "    [theme=dark] .colab-df-convert:hover {\n",
              "      background-color: #434B5C;\n",
              "      box-shadow: 0px 1px 3px 1px rgba(0, 0, 0, 0.15);\n",
              "      filter: drop-shadow(0px 1px 2px rgba(0, 0, 0, 0.3));\n",
              "      fill: #FFFFFF;\n",
              "    }\n",
              "  </style>\n",
              "\n",
              "    <script>\n",
              "      const buttonEl =\n",
              "        document.querySelector('#df-6c005b43-f084-4dc2-97f2-3879f68295dc button.colab-df-convert');\n",
              "      buttonEl.style.display =\n",
              "        google.colab.kernel.accessAllowed ? 'block' : 'none';\n",
              "\n",
              "      async function convertToInteractive(key) {\n",
              "        const element = document.querySelector('#df-6c005b43-f084-4dc2-97f2-3879f68295dc');\n",
              "        const dataTable =\n",
              "          await google.colab.kernel.invokeFunction('convertToInteractive',\n",
              "                                                    [key], {});\n",
              "        if (!dataTable) return;\n",
              "\n",
              "        const docLinkHtml = 'Like what you see? Visit the ' +\n",
              "          '<a target=\"_blank\" href=https://colab.research.google.com/notebooks/data_table.ipynb>data table notebook</a>'\n",
              "          + ' to learn more about interactive tables.';\n",
              "        element.innerHTML = '';\n",
              "        dataTable['output_type'] = 'display_data';\n",
              "        await google.colab.output.renderOutput(dataTable, element);\n",
              "        const docLink = document.createElement('div');\n",
              "        docLink.innerHTML = docLinkHtml;\n",
              "        element.appendChild(docLink);\n",
              "      }\n",
              "    </script>\n",
              "  </div>\n",
              "\n",
              "\n",
              "<div id=\"df-8c002ccc-1a55-498e-8c53-5caa05a352d9\">\n",
              "  <button class=\"colab-df-quickchart\" onclick=\"quickchart('df-8c002ccc-1a55-498e-8c53-5caa05a352d9')\"\n",
              "            title=\"Suggest charts\"\n",
              "            style=\"display:none;\">\n",
              "\n",
              "<svg xmlns=\"http://www.w3.org/2000/svg\" height=\"24px\"viewBox=\"0 0 24 24\"\n",
              "     width=\"24px\">\n",
              "    <g>\n",
              "        <path d=\"M19 3H5c-1.1 0-2 .9-2 2v14c0 1.1.9 2 2 2h14c1.1 0 2-.9 2-2V5c0-1.1-.9-2-2-2zM9 17H7v-7h2v7zm4 0h-2V7h2v10zm4 0h-2v-4h2v4z\"/>\n",
              "    </g>\n",
              "</svg>\n",
              "  </button>\n",
              "\n",
              "<style>\n",
              "  .colab-df-quickchart {\n",
              "      --bg-color: #E8F0FE;\n",
              "      --fill-color: #1967D2;\n",
              "      --hover-bg-color: #E2EBFA;\n",
              "      --hover-fill-color: #174EA6;\n",
              "      --disabled-fill-color: #AAA;\n",
              "      --disabled-bg-color: #DDD;\n",
              "  }\n",
              "\n",
              "  [theme=dark] .colab-df-quickchart {\n",
              "      --bg-color: #3B4455;\n",
              "      --fill-color: #D2E3FC;\n",
              "      --hover-bg-color: #434B5C;\n",
              "      --hover-fill-color: #FFFFFF;\n",
              "      --disabled-bg-color: #3B4455;\n",
              "      --disabled-fill-color: #666;\n",
              "  }\n",
              "\n",
              "  .colab-df-quickchart {\n",
              "    background-color: var(--bg-color);\n",
              "    border: none;\n",
              "    border-radius: 50%;\n",
              "    cursor: pointer;\n",
              "    display: none;\n",
              "    fill: var(--fill-color);\n",
              "    height: 32px;\n",
              "    padding: 0;\n",
              "    width: 32px;\n",
              "  }\n",
              "\n",
              "  .colab-df-quickchart:hover {\n",
              "    background-color: var(--hover-bg-color);\n",
              "    box-shadow: 0 1px 2px rgba(60, 64, 67, 0.3), 0 1px 3px 1px rgba(60, 64, 67, 0.15);\n",
              "    fill: var(--button-hover-fill-color);\n",
              "  }\n",
              "\n",
              "  .colab-df-quickchart-complete:disabled,\n",
              "  .colab-df-quickchart-complete:disabled:hover {\n",
              "    background-color: var(--disabled-bg-color);\n",
              "    fill: var(--disabled-fill-color);\n",
              "    box-shadow: none;\n",
              "  }\n",
              "\n",
              "  .colab-df-spinner {\n",
              "    border: 2px solid var(--fill-color);\n",
              "    border-color: transparent;\n",
              "    border-bottom-color: var(--fill-color);\n",
              "    animation:\n",
              "      spin 1s steps(1) infinite;\n",
              "  }\n",
              "\n",
              "  @keyframes spin {\n",
              "    0% {\n",
              "      border-color: transparent;\n",
              "      border-bottom-color: var(--fill-color);\n",
              "      border-left-color: var(--fill-color);\n",
              "    }\n",
              "    20% {\n",
              "      border-color: transparent;\n",
              "      border-left-color: var(--fill-color);\n",
              "      border-top-color: var(--fill-color);\n",
              "    }\n",
              "    30% {\n",
              "      border-color: transparent;\n",
              "      border-left-color: var(--fill-color);\n",
              "      border-top-color: var(--fill-color);\n",
              "      border-right-color: var(--fill-color);\n",
              "    }\n",
              "    40% {\n",
              "      border-color: transparent;\n",
              "      border-right-color: var(--fill-color);\n",
              "      border-top-color: var(--fill-color);\n",
              "    }\n",
              "    60% {\n",
              "      border-color: transparent;\n",
              "      border-right-color: var(--fill-color);\n",
              "    }\n",
              "    80% {\n",
              "      border-color: transparent;\n",
              "      border-right-color: var(--fill-color);\n",
              "      border-bottom-color: var(--fill-color);\n",
              "    }\n",
              "    90% {\n",
              "      border-color: transparent;\n",
              "      border-bottom-color: var(--fill-color);\n",
              "    }\n",
              "  }\n",
              "</style>\n",
              "\n",
              "  <script>\n",
              "    async function quickchart(key) {\n",
              "      const quickchartButtonEl =\n",
              "        document.querySelector('#' + key + ' button');\n",
              "      quickchartButtonEl.disabled = true;  // To prevent multiple clicks.\n",
              "      quickchartButtonEl.classList.add('colab-df-spinner');\n",
              "      try {\n",
              "        const charts = await google.colab.kernel.invokeFunction(\n",
              "            'suggestCharts', [key], {});\n",
              "      } catch (error) {\n",
              "        console.error('Error during call to suggestCharts:', error);\n",
              "      }\n",
              "      quickchartButtonEl.classList.remove('colab-df-spinner');\n",
              "      quickchartButtonEl.classList.add('colab-df-quickchart-complete');\n",
              "    }\n",
              "    (() => {\n",
              "      let quickchartButtonEl =\n",
              "        document.querySelector('#df-8c002ccc-1a55-498e-8c53-5caa05a352d9 button');\n",
              "      quickchartButtonEl.style.display =\n",
              "        google.colab.kernel.accessAllowed ? 'block' : 'none';\n",
              "    })();\n",
              "  </script>\n",
              "</div>\n",
              "    </div>\n",
              "  </div>\n"
            ]
          },
          "metadata": {},
          "execution_count": 4
        }
      ],
      "source": [
        "# mengambil data dari subjek 1 dan kondisi 1\n",
        "df = df[(df['subject'] == 1) & (df['condition'] == 1)]\n",
        "df.head()"
      ]
    },
    {
      "cell_type": "code",
      "execution_count": null,
      "metadata": {
        "colab": {
          "base_uri": "https://localhost:8080/",
          "height": 447
        },
        "id": "vFPJ1Sqp7GGa",
        "outputId": "22f7b13b-22ee-4f78-9da1-21c605ba92e6"
      },
      "outputs": [
        {
          "output_type": "execute_result",
          "data": {
            "text/plain": [
              "<Axes: >"
            ]
          },
          "metadata": {},
          "execution_count": 5
        },
        {
          "output_type": "display_data",
          "data": {
            "text/plain": [
              "<Figure size 640x480 with 1 Axes>"
            ],
            "image/png": "[encoded data removed]"
          },
          "metadata": {}
        }
      ],
      "source": [
        "# membuat plot dari data df yang sebelumnya dan dibandingkan dengan angle\n",
        "temp = df[(df['subject'] == 1) & (df['condition'] == 1)]['angle']\n",
        "temp.plot()"
      ]
    },
    {
      "cell_type": "markdown",
      "metadata": {
        "id": "Pfjzxsrj7XbO"
      },
      "source": [
        "##Univariate Time Series"
      ]
    },
    {
      "cell_type": "markdown",
      "metadata": {
        "id": "xni20DcrBk0X"
      },
      "source": [
        "###Data Preprocessing"
      ]
    },
    {
      "cell_type": "code",
      "execution_count": null,
      "metadata": {
        "id": "76TShrsJ7W95"
      },
      "outputs": [],
      "source": [
        "# [[[1], [2], [3], [4], [5]]] [6]\n",
        "# [[[2], [3], [4], [5], [6]]] [7]\n",
        "# [[[3], [4], [5], [6], [7]]] [8]\n",
        "\n",
        "# untuk transpose data\n",
        "def df_to_X_y(df, window_size=5):\n",
        "  df_as_np = df.to_numpy()\n",
        "  X = []\n",
        "  y = []\n",
        "  for i in range(len(df_as_np)-window_size):\n",
        "    row = [[a] for a in df_as_np[i:i+window_size]]\n",
        "    X.append(row)\n",
        "    label = df_as_np[i+window_size]\n",
        "    y.append(label)\n",
        "  return np.array(X), np.array(y)"
      ]
    },
    {
      "cell_type": "code",
      "execution_count": null,
      "metadata": {
        "id": "B7nmYExl-H_C"
      },
      "outputs": [],
      "source": [
        "WINDOW_SIZE = 5\n",
        "X1, y1 = df_to_X_y(temp, WINDOW_SIZE)"
      ]
    },
    {
      "cell_type": "code",
      "execution_count": null,
      "metadata": {
        "id": "YZbnI7Re-R7-"
      },
      "outputs": [],
      "source": [
        "X_train1, y_train1 = X1[:5000], y1[:5000]\n",
        "X_val1, y_val1 = X1[5000:5500], y1[5000:5500]\n",
        "X_test1, y_test1 = X1[5500:], y1[5500:]"
      ]
    },
    {
      "cell_type": "code",
      "execution_count": null,
      "metadata": {
        "id": "OwPCBjdD-V21"
      },
      "outputs": [],
      "source": [
        "from sklearn.metrics import mean_squared_error as mse\n",
        "\n",
        "def plot_predictions1(model, X, y, start=0, end=100):\n",
        "  predictions = model.predict(X).flatten()\n",
        "  df = pd.DataFrame(data={'Predictions':predictions, 'Actuals':y})\n",
        "  plt.plot(df['Predictions'][start:end])\n",
        "  plt.plot(df['Actuals'][start:end])\n",
        "  return df, mse(y, predictions)"
      ]
    },
    {
      "cell_type": "markdown",
      "metadata": {
        "id": "yvITMLBB-dbJ"
      },
      "source": [
        "###RNN"
      ]
    },
    {
      "cell_type": "code",
      "execution_count": null,
      "metadata": {
        "colab": {
          "base_uri": "https://localhost:8080/"
        },
        "id": "f6AtA6T0-obq",
        "outputId": "92973fe6-a8d2-43f6-f23a-2245a8375254"
      },
      "outputs": [
        {
          "output_type": "stream",
          "name": "stdout",
          "text": [
            "Model: \"sequential\"\n",
            "_________________________________________________________________\n",
            " Layer (type)                Output Shape              Param #   \n",
            "=================================================================\n",
            " simple_rnn (SimpleRNN)      (None, 64)                4224      \n",
            "                                                                 \n",
            " dense (Dense)               (None, 8)                 520       \n",
            "                                                                 \n",
            " dense_1 (Dense)             (None, 1)                 9         \n",
            "                                                                 \n",
            "=================================================================\n",
            "Total params: 4753 (18.57 KB)\n",
            "Trainable params: 4753 (18.57 KB)\n",
            "Non-trainable params: 0 (0.00 Byte)\n",
            "_________________________________________________________________\n"
          ]
        }
      ],
      "source": [
        "from tensorflow.keras.models import Sequential\n",
        "from tensorflow.keras.layers import *\n",
        "from tensorflow.keras.callbacks import ModelCheckpoint\n",
        "from tensorflow.keras.losses import MeanSquaredError\n",
        "from tensorflow.keras.metrics import RootMeanSquaredError\n",
        "from tensorflow.keras.optimizers import Adam\n",
        "\n",
        "model1 = Sequential()\n",
        "model1.add(InputLayer((5, 1)))\n",
        "model1.add(SimpleRNN(64))\n",
        "model1.add(Dense(8, 'sigmoid'))\n",
        "model1.add(Dense(1, 'linear'))\n",
        "\n",
        "model1.summary()"
      ]
    },
    {
      "cell_type": "code",
      "execution_count": null,
      "metadata": {
        "id": "w-VtvQdO-wu2"
      },
      "outputs": [],
      "source": [
        "cp1 = ModelCheckpoint('model1/', save_best_only=True)\n",
        "model1.compile(loss=MeanSquaredError(), optimizer=Adam(learning_rate=0.001), metrics=[RootMeanSquaredError()])"
      ]
    },
    {
      "cell_type": "code",
      "execution_count": null,
      "metadata": {
        "colab": {
          "base_uri": "https://localhost:8080/"
        },
        "id": "rA_3lIzu-1Ey",
        "outputId": "50b0f36e-3d7b-46b8-f253-c8503db44c08"
      },
      "outputs": [
        {
          "output_type": "stream",
          "name": "stdout",
          "text": [
            "Epoch 1/20\n",
            "157/157 [==============================] - 6s 20ms/step - loss: 296.3874 - root_mean_squared_error: 17.2159 - val_loss: 338.8958 - val_root_mean_squared_error: 18.4091\n",
            "Epoch 2/20\n",
            "157/157 [==============================] - 3s 17ms/step - loss: 272.9381 - root_mean_squared_error: 16.5208 - val_loss: 317.3168 - val_root_mean_squared_error: 17.8134\n",
            "Epoch 3/20\n",
            "157/157 [==============================] - 3s 17ms/step - loss: 254.7962 - root_mean_squared_error: 15.9623 - val_loss: 298.4162 - val_root_mean_squared_error: 17.2747\n",
            "Epoch 4/20\n",
            "157/157 [==============================] - 3s 21ms/step - loss: 238.7148 - root_mean_squared_error: 15.4504 - val_loss: 281.3784 - val_root_mean_squared_error: 16.7743\n",
            "Epoch 5/20\n",
            "157/157 [==============================] - 4s 25ms/step - loss: 224.6148 - root_mean_squared_error: 14.9872 - val_loss: 265.9818 - val_root_mean_squared_error: 16.3089\n",
            "Epoch 6/20\n",
            "157/157 [==============================] - 3s 16ms/step - loss: 211.8086 - root_mean_squared_error: 14.5536 - val_loss: 252.1030 - val_root_mean_squared_error: 15.8778\n",
            "Epoch 7/20\n",
            "157/157 [==============================] - 3s 16ms/step - loss: 200.3340 - root_mean_squared_error: 14.1539 - val_loss: 240.1248 - val_root_mean_squared_error: 15.4960\n",
            "Epoch 8/20\n",
            "157/157 [==============================] - 3s 16ms/step - loss: 189.9706 - root_mean_squared_error: 13.7830 - val_loss: 228.1427 - val_root_mean_squared_error: 15.1044\n",
            "Epoch 9/20\n",
            "157/157 [==============================] - 4s 23ms/step - loss: 180.5441 - root_mean_squared_error: 13.4367 - val_loss: 217.3799 - val_root_mean_squared_error: 14.7438\n",
            "Epoch 10/20\n",
            "157/157 [==============================] - 4s 23ms/step - loss: 172.0311 - root_mean_squared_error: 13.1161 - val_loss: 207.8404 - val_root_mean_squared_error: 14.4167\n",
            "Epoch 11/20\n",
            "157/157 [==============================] - 3s 16ms/step - loss: 164.2488 - root_mean_squared_error: 12.8160 - val_loss: 198.7318 - val_root_mean_squared_error: 14.0972\n",
            "Epoch 12/20\n",
            "157/157 [==============================] - 3s 17ms/step - loss: 156.7718 - root_mean_squared_error: 12.5209 - val_loss: 190.2025 - val_root_mean_squared_error: 13.7914\n",
            "Epoch 13/20\n",
            "157/157 [==============================] - 3s 16ms/step - loss: 149.9533 - root_mean_squared_error: 12.2455 - val_loss: 182.1837 - val_root_mean_squared_error: 13.4975\n",
            "Epoch 14/20\n",
            "157/157 [==============================] - 4s 24ms/step - loss: 143.6857 - root_mean_squared_error: 11.9869 - val_loss: 174.6900 - val_root_mean_squared_error: 13.2170\n",
            "Epoch 15/20\n",
            "157/157 [==============================] - 3s 16ms/step - loss: 137.6119 - root_mean_squared_error: 11.7308 - val_loss: 167.4568 - val_root_mean_squared_error: 12.9405\n",
            "Epoch 16/20\n",
            "157/157 [==============================] - 3s 21ms/step - loss: 131.7445 - root_mean_squared_error: 11.4780 - val_loss: 160.7390 - val_root_mean_squared_error: 12.6783\n",
            "Epoch 17/20\n",
            "157/157 [==============================] - 3s 16ms/step - loss: 126.4311 - root_mean_squared_error: 11.2442 - val_loss: 154.2267 - val_root_mean_squared_error: 12.4188\n",
            "Epoch 18/20\n",
            "157/157 [==============================] - 3s 18ms/step - loss: 121.4046 - root_mean_squared_error: 11.0184 - val_loss: 148.2873 - val_root_mean_squared_error: 12.1773\n",
            "Epoch 19/20\n",
            "157/157 [==============================] - 4s 23ms/step - loss: 116.7413 - root_mean_squared_error: 10.8047 - val_loss: 142.9904 - val_root_mean_squared_error: 11.9579\n",
            "Epoch 20/20\n",
            "157/157 [==============================] - 3s 16ms/step - loss: 112.1657 - root_mean_squared_error: 10.5908 - val_loss: 137.3416 - val_root_mean_squared_error: 11.7193\n"
          ]
        },
        {
          "output_type": "execute_result",
          "data": {
            "text/plain": [
              "<keras.src.callbacks.History at 0x792bac1eb6a0>"
            ]
          },
          "metadata": {},
          "execution_count": 12
        }
      ],
      "source": [
        "model1.fit(X_train1, y_train1, validation_data=(X_val1, y_val1), epochs=20, callbacks=[cp1])"
      ]
    },
    {
      "cell_type": "code",
      "execution_count": null,
      "metadata": {
        "colab": {
          "base_uri": "https://localhost:8080/",
          "height": 708
        },
        "id": "WsxB1c6C-7m0",
        "outputId": "99a67914-569b-449b-8fdc-dced1fbd0e18"
      },
      "outputs": [
        {
          "output_type": "stream",
          "name": "stdout",
          "text": [
            "18/18 [==============================] - 0s 3ms/step\n"
          ]
        },
        {
          "output_type": "execute_result",
          "data": {
            "text/plain": [
              "(     Predictions    Actuals\n",
              " 0      12.137651  12.268267\n",
              " 1      12.260180  12.374724\n",
              " 2      12.349058  12.446154\n",
              " 3      12.394329  12.475420\n",
              " 4      12.392332  12.458861\n",
              " ..           ...        ...\n",
              " 550    18.429239  19.639531\n",
              " 551    18.288799  19.222357\n",
              " 552    18.157724  18.974241\n",
              " 553    18.105467  18.908536\n",
              " 554    18.141283  19.003468\n",
              " \n",
              " [555 rows x 2 columns],\n",
              " 122.96610420964448)"
            ]
          },
          "metadata": {},
          "execution_count": 13
        },
        {
          "output_type": "display_data",
          "data": {
            "text/plain": [
              "<Figure size 640x480 with 1 Axes>"
            ],
            "image/png": "[encoded data removed]"
          },
          "metadata": {}
        }
      ],
      "source": [
        "plot_predictions1(model1, X_test1, y_test1)"
      ]
    },
    {
      "cell_type": "markdown",
      "metadata": {
        "id": "nj8Wjnyw_GJi"
      },
      "source": [
        "###GRU"
      ]
    },
    {
      "cell_type": "code",
      "execution_count": null,
      "metadata": {
        "colab": {
          "base_uri": "https://localhost:8080/"
        },
        "id": "eehNIxaH_H0U",
        "outputId": "9faa199b-ae6d-4e5d-df31-d99b8bff4e8f"
      },
      "outputs": [
        {
          "output_type": "stream",
          "name": "stdout",
          "text": [
            "Model: \"sequential_1\"\n",
            "_________________________________________________________________\n",
            " Layer (type)                Output Shape              Param #   \n",
            "=================================================================\n",
            " gru (GRU)                   (None, 64)                12864     \n",
            "                                                                 \n",
            " dense_2 (Dense)             (None, 8)                 520       \n",
            "                                                                 \n",
            " dense_3 (Dense)             (None, 1)                 9         \n",
            "                                                                 \n",
            "=================================================================\n",
            "Total params: 13393 (52.32 KB)\n",
            "Trainable params: 13393 (52.32 KB)\n",
            "Non-trainable params: 0 (0.00 Byte)\n",
            "_________________________________________________________________\n"
          ]
        }
      ],
      "source": [
        "model2 = Sequential()\n",
        "model2.add(InputLayer((5, 1)))\n",
        "model2.add(GRU(64))\n",
        "model2.add(Dense(8, 'sigmoid'))\n",
        "model2.add(Dense(1, 'linear'))\n",
        "\n",
        "model2.summary()"
      ]
    },
    {
      "cell_type": "code",
      "execution_count": null,
      "metadata": {
        "id": "34NI2XYj_S6m"
      },
      "outputs": [],
      "source": [
        "cp2 = ModelCheckpoint('model2/', save_best_only=True)\n",
        "model2.compile(loss=MeanSquaredError(), optimizer=Adam(learning_rate=0.001), metrics=[RootMeanSquaredError()])"
      ]
    },
    {
      "cell_type": "code",
      "execution_count": null,
      "metadata": {
        "colab": {
          "base_uri": "https://localhost:8080/"
        },
        "id": "yH8l5AZ1_Z0K",
        "outputId": "929a9941-7b0e-4dc2-be90-d48587ed0be8"
      },
      "outputs": [
        {
          "output_type": "stream",
          "name": "stdout",
          "text": [
            "Epoch 1/20\n",
            "157/157 [==============================] - 10s 43ms/step - loss: 311.0916 - root_mean_squared_error: 17.6378 - val_loss: 349.8925 - val_root_mean_squared_error: 18.7054\n",
            "Epoch 2/20\n",
            "157/157 [==============================] - 5s 31ms/step - loss: 281.9396 - root_mean_squared_error: 16.7911 - val_loss: 325.9911 - val_root_mean_squared_error: 18.0552\n",
            "Epoch 3/20\n",
            "157/157 [==============================] - 6s 36ms/step - loss: 262.0756 - root_mean_squared_error: 16.1887 - val_loss: 305.7049 - val_root_mean_squared_error: 17.4844\n",
            "Epoch 4/20\n",
            "157/157 [==============================] - 6s 41ms/step - loss: 245.0511 - root_mean_squared_error: 15.6541 - val_loss: 287.8030 - val_root_mean_squared_error: 16.9648\n",
            "Epoch 5/20\n",
            "157/157 [==============================] - 5s 31ms/step - loss: 230.1304 - root_mean_squared_error: 15.1700 - val_loss: 272.0328 - val_root_mean_squared_error: 16.4934\n",
            "Epoch 6/20\n",
            "157/157 [==============================] - 7s 44ms/step - loss: 216.9178 - root_mean_squared_error: 14.7281 - val_loss: 257.6001 - val_root_mean_squared_error: 16.0499\n",
            "Epoch 7/20\n",
            "157/157 [==============================] - 6s 36ms/step - loss: 205.0649 - root_mean_squared_error: 14.3201 - val_loss: 244.4623 - val_root_mean_squared_error: 15.6353\n",
            "Epoch 8/20\n",
            "157/157 [==============================] - 5s 32ms/step - loss: 194.3079 - root_mean_squared_error: 13.9394 - val_loss: 232.7873 - val_root_mean_squared_error: 15.2574\n",
            "Epoch 9/20\n",
            "157/157 [==============================] - 6s 38ms/step - loss: 184.5605 - root_mean_squared_error: 13.5853 - val_loss: 221.6563 - val_root_mean_squared_error: 14.8881\n",
            "Epoch 10/20\n",
            "157/157 [==============================] - 6s 36ms/step - loss: 175.6776 - root_mean_squared_error: 13.2543 - val_loss: 211.7770 - val_root_mean_squared_error: 14.5526\n",
            "Epoch 11/20\n",
            "157/157 [==============================] - 6s 39ms/step - loss: 167.5986 - root_mean_squared_error: 12.9460 - val_loss: 202.3992 - val_root_mean_squared_error: 14.2267\n",
            "Epoch 12/20\n",
            "157/157 [==============================] - 5s 30ms/step - loss: 160.0065 - root_mean_squared_error: 12.6494 - val_loss: 193.7793 - val_root_mean_squared_error: 13.9205\n",
            "Epoch 13/20\n",
            "157/157 [==============================] - 5s 35ms/step - loss: 153.0925 - root_mean_squared_error: 12.3731 - val_loss: 185.4125 - val_root_mean_squared_error: 13.6166\n",
            "Epoch 14/20\n",
            "157/157 [==============================] - 6s 39ms/step - loss: 146.3349 - root_mean_squared_error: 12.0969 - val_loss: 177.7739 - val_root_mean_squared_error: 13.3332\n",
            "Epoch 15/20\n",
            "157/157 [==============================] - 5s 30ms/step - loss: 140.2368 - root_mean_squared_error: 11.8422 - val_loss: 170.5670 - val_root_mean_squared_error: 13.0601\n",
            "Epoch 16/20\n",
            "157/157 [==============================] - 7s 42ms/step - loss: 134.3484 - root_mean_squared_error: 11.5909 - val_loss: 163.7736 - val_root_mean_squared_error: 12.7974\n",
            "Epoch 17/20\n",
            "157/157 [==============================] - 5s 33ms/step - loss: 128.8560 - root_mean_squared_error: 11.3515 - val_loss: 157.1110 - val_root_mean_squared_error: 12.5344\n",
            "Epoch 18/20\n",
            "157/157 [==============================] - 5s 31ms/step - loss: 123.6534 - root_mean_squared_error: 11.1200 - val_loss: 151.0004 - val_root_mean_squared_error: 12.2882\n",
            "Epoch 19/20\n",
            "157/157 [==============================] - 7s 43ms/step - loss: 118.8922 - root_mean_squared_error: 10.9038 - val_loss: 145.1900 - val_root_mean_squared_error: 12.0495\n",
            "Epoch 20/20\n",
            "157/157 [==============================] - 5s 30ms/step - loss: 114.0641 - root_mean_squared_error: 10.6801 - val_loss: 139.3376 - val_root_mean_squared_error: 11.8041\n"
          ]
        },
        {
          "output_type": "execute_result",
          "data": {
            "text/plain": [
              "<keras.src.callbacks.History at 0x792b9a898130>"
            ]
          },
          "metadata": {},
          "execution_count": 16
        }
      ],
      "source": [
        "model2.fit(X_train1, y_train1, validation_data=(X_val1, y_val1), epochs=20, callbacks=[cp2])"
      ]
    },
    {
      "cell_type": "code",
      "execution_count": null,
      "metadata": {
        "colab": {
          "base_uri": "https://localhost:8080/",
          "height": 708
        },
        "id": "36YbXuml_fPl",
        "outputId": "f05b234e-b624-44b4-c055-99c9224836fa"
      },
      "outputs": [
        {
          "output_type": "stream",
          "name": "stdout",
          "text": [
            "18/18 [==============================] - 0s 3ms/step\n"
          ]
        },
        {
          "output_type": "execute_result",
          "data": {
            "text/plain": [
              "(     Predictions    Actuals\n",
              " 0      12.226942  12.268267\n",
              " 1      12.354655  12.374724\n",
              " 2      12.443510  12.446154\n",
              " 3      12.482312  12.475420\n",
              " 4      12.467919  12.458861\n",
              " ..           ...        ...\n",
              " 550    18.163742  19.639531\n",
              " 551    18.110464  19.222357\n",
              " 552    18.029003  18.974241\n",
              " 553    17.973120  18.908536\n",
              " 554    17.987749  19.003468\n",
              " \n",
              " [555 rows x 2 columns],\n",
              " 124.96923727868426)"
            ]
          },
          "metadata": {},
          "execution_count": 17
        },
        {
          "output_type": "display_data",
          "data": {
            "text/plain": [
              "<Figure size 640x480 with 1 Axes>"
            ],
            "image/png": "[encoded data removed]"
          },
          "metadata": {}
        }
      ],
      "source": [
        "plot_predictions1(model2, X_test1, y_test1)"
      ]
    },
    {
      "cell_type": "markdown",
      "metadata": {
        "id": "pqwCc9q1_v4U"
      },
      "source": [
        "###LSTM"
      ]
    },
    {
      "cell_type": "code",
      "execution_count": null,
      "metadata": {
        "colab": {
          "base_uri": "https://localhost:8080/"
        },
        "id": "aeThWVsp_8lF",
        "outputId": "55b7f32e-b279-4dd7-f13b-78066b355e9c"
      },
      "outputs": [
        {
          "output_type": "stream",
          "name": "stdout",
          "text": [
            "Model: \"sequential_2\"\n",
            "_________________________________________________________________\n",
            " Layer (type)                Output Shape              Param #   \n",
            "=================================================================\n",
            " lstm (LSTM)                 (None, 64)                16896     \n",
            "                                                                 \n",
            " dense_4 (Dense)             (None, 8)                 520       \n",
            "                                                                 \n",
            " dense_5 (Dense)             (None, 1)                 9         \n",
            "                                                                 \n",
            "=================================================================\n",
            "Total params: 17425 (68.07 KB)\n",
            "Trainable params: 17425 (68.07 KB)\n",
            "Non-trainable params: 0 (0.00 Byte)\n",
            "_________________________________________________________________\n"
          ]
        }
      ],
      "source": [
        "model3 = Sequential()\n",
        "model3.add(InputLayer((5, 1)))\n",
        "model3.add(LSTM(64))\n",
        "model3.add(Dense(8, 'sigmoid'))\n",
        "model3.add(Dense(1, 'linear'))\n",
        "\n",
        "model3.summary()"
      ]
    },
    {
      "cell_type": "code",
      "execution_count": null,
      "metadata": {
        "id": "dKF8TPq2AEus"
      },
      "outputs": [],
      "source": [
        "cp1 = ModelCheckpoint('model3/', save_best_only=True)\n",
        "model3.compile(loss=MeanSquaredError(), optimizer=Adam(learning_rate=0.001), metrics=[RootMeanSquaredError()])"
      ]
    },
    {
      "cell_type": "code",
      "execution_count": null,
      "metadata": {
        "colab": {
          "base_uri": "https://localhost:8080/"
        },
        "id": "EIIreiqRAJTI",
        "outputId": "c244c39b-efc6-45d2-fc38-c87959ca31c0"
      },
      "outputs": [
        {
          "output_type": "stream",
          "name": "stdout",
          "text": [
            "Epoch 1/20\n",
            "157/157 [==============================] - 10s 43ms/step - loss: 302.6956 - root_mean_squared_error: 17.3982 - val_loss: 338.8709 - val_root_mean_squared_error: 18.4084\n",
            "Epoch 2/20\n",
            "157/157 [==============================] - 6s 37ms/step - loss: 272.1213 - root_mean_squared_error: 16.4961 - val_loss: 316.2929 - val_root_mean_squared_error: 17.7846\n",
            "Epoch 3/20\n",
            "157/157 [==============================] - 6s 40ms/step - loss: 253.3030 - root_mean_squared_error: 15.9155 - val_loss: 296.7170 - val_root_mean_squared_error: 17.2255\n",
            "Epoch 4/20\n",
            "157/157 [==============================] - 5s 32ms/step - loss: 237.1857 - root_mean_squared_error: 15.4008 - val_loss: 279.7406 - val_root_mean_squared_error: 16.7254\n",
            "Epoch 5/20\n",
            "157/157 [==============================] - 7s 44ms/step - loss: 222.9947 - root_mean_squared_error: 14.9330 - val_loss: 264.4496 - val_root_mean_squared_error: 16.2619\n",
            "Epoch 6/20\n",
            "157/157 [==============================] - 6s 35ms/step - loss: 210.3849 - root_mean_squared_error: 14.5047 - val_loss: 250.8233 - val_root_mean_squared_error: 15.8374\n",
            "Epoch 7/20\n",
            "157/157 [==============================] - 5s 32ms/step - loss: 199.1017 - root_mean_squared_error: 14.1103 - val_loss: 238.3558 - val_root_mean_squared_error: 15.4388\n",
            "Epoch 8/20\n",
            "157/157 [==============================] - 7s 47ms/step - loss: 188.9210 - root_mean_squared_error: 13.7449 - val_loss: 226.8795 - val_root_mean_squared_error: 15.0625\n",
            "Epoch 9/20\n",
            "157/157 [==============================] - 6s 36ms/step - loss: 179.6864 - root_mean_squared_error: 13.4047 - val_loss: 216.5573 - val_root_mean_squared_error: 14.7159\n",
            "Epoch 10/20\n",
            "157/157 [==============================] - 8s 49ms/step - loss: 171.1814 - root_mean_squared_error: 13.0836 - val_loss: 206.7155 - val_root_mean_squared_error: 14.3776\n",
            "Epoch 11/20\n",
            "157/157 [==============================] - 6s 39ms/step - loss: 163.3368 - root_mean_squared_error: 12.7803 - val_loss: 197.8904 - val_root_mean_squared_error: 14.0674\n",
            "Epoch 12/20\n",
            "157/157 [==============================] - 7s 42ms/step - loss: 156.0432 - root_mean_squared_error: 12.4917 - val_loss: 189.2476 - val_root_mean_squared_error: 13.7567\n",
            "Epoch 13/20\n",
            "157/157 [==============================] - 6s 36ms/step - loss: 149.2595 - root_mean_squared_error: 12.2172 - val_loss: 181.3304 - val_root_mean_squared_error: 13.4659\n",
            "Epoch 14/20\n",
            "157/157 [==============================] - 7s 42ms/step - loss: 142.9518 - root_mean_squared_error: 11.9562 - val_loss: 174.0551 - val_root_mean_squared_error: 13.1930\n",
            "Epoch 15/20\n",
            "157/157 [==============================] - 6s 39ms/step - loss: 136.9809 - root_mean_squared_error: 11.7039 - val_loss: 166.7142 - val_root_mean_squared_error: 12.9118\n",
            "Epoch 16/20\n",
            "157/157 [==============================] - 5s 33ms/step - loss: 131.4076 - root_mean_squared_error: 11.4633 - val_loss: 160.0775 - val_root_mean_squared_error: 12.6522\n",
            "Epoch 17/20\n",
            "157/157 [==============================] - 7s 46ms/step - loss: 126.0624 - root_mean_squared_error: 11.2278 - val_loss: 154.0254 - val_root_mean_squared_error: 12.4107\n",
            "Epoch 18/20\n",
            "157/157 [==============================] - 5s 33ms/step - loss: 121.0274 - root_mean_squared_error: 11.0012 - val_loss: 147.9356 - val_root_mean_squared_error: 12.1629\n",
            "Epoch 19/20\n",
            "157/157 [==============================] - 6s 37ms/step - loss: 116.2319 - root_mean_squared_error: 10.7811 - val_loss: 142.2202 - val_root_mean_squared_error: 11.9256\n",
            "Epoch 20/20\n",
            "157/157 [==============================] - 7s 42ms/step - loss: 111.8115 - root_mean_squared_error: 10.5741 - val_loss: 136.8331 - val_root_mean_squared_error: 11.6976\n"
          ]
        },
        {
          "output_type": "execute_result",
          "data": {
            "text/plain": [
              "<keras.src.callbacks.History at 0x792b9ace3760>"
            ]
          },
          "metadata": {},
          "execution_count": 20
        }
      ],
      "source": [
        "model3.fit(X_train1, y_train1, validation_data=(X_val1, y_val1), epochs=20, callbacks=[cp1])"
      ]
    },
    {
      "cell_type": "code",
      "execution_count": null,
      "metadata": {
        "colab": {
          "base_uri": "https://localhost:8080/",
          "height": 708
        },
        "id": "DyuLtERQAPDR",
        "outputId": "83efbaf0-c91f-4bd1-b5bf-842cbe7dd502"
      },
      "outputs": [
        {
          "output_type": "stream",
          "name": "stdout",
          "text": [
            "18/18 [==============================] - 1s 5ms/step\n"
          ]
        },
        {
          "output_type": "execute_result",
          "data": {
            "text/plain": [
              "(     Predictions    Actuals\n",
              " 0      12.184061  12.268267\n",
              " 1      12.301226  12.374724\n",
              " 2      12.382006  12.446154\n",
              " 3      12.417694  12.475420\n",
              " 4      12.406445  12.458861\n",
              " ..           ...        ...\n",
              " 550    18.291870  19.639531\n",
              " 551    17.969915  19.222357\n",
              " 552    17.704433  18.974241\n",
              " 553    17.593288  18.908536\n",
              " 554    17.637383  19.003468\n",
              " \n",
              " [555 rows x 2 columns],\n",
              " 122.76672640257745)"
            ]
          },
          "metadata": {},
          "execution_count": 21
        },
        {
          "output_type": "display_data",
          "data": {
            "text/plain": [
              "<Figure size 640x480 with 1 Axes>"
            ],
            "image/png": "[encoded data removed]"
          },
          "metadata": {}
        }
      ],
      "source": [
        "plot_predictions1(model3, X_test1, y_test1)"
      ]
    },
    {
      "cell_type": "markdown",
      "metadata": {
        "id": "Q2LDO9qyBTIA"
      },
      "source": [
        "##Multivariate Time Series"
      ]
    },
    {
      "cell_type": "markdown",
      "metadata": {
        "id": "EqS9O9nGCBGt"
      },
      "source": [
        "###Data Preprocessing"
      ]
    },
    {
      "cell_type": "code",
      "execution_count": null,
      "metadata": {
        "id": "rxEkagb_BVv2"
      },
      "outputs": [],
      "source": [
        "ang = df[(df['subject'] == 1) & (df['condition'] == 1)]['angle']\n",
        "rep = df[(df['subject'] == 1) & (df['condition'] == 1)]['replication']\n",
        "leg = df[(df['subject'] == 1) & (df['condition'] == 1)]['leg']\n",
        "joi = df[(df['subject'] == 1) & (df['condition'] == 1)]['joint']\n",
        "tim = df[(df['subject'] == 1) & (df['condition'] == 1)]['time']"
      ]
    },
    {
      "cell_type": "code",
      "execution_count": null,
      "metadata": {
        "colab": {
          "base_uri": "https://localhost:8080/",
          "height": 423
        },
        "id": "8JY88duhCJCs",
        "outputId": "cd32b8bf-3c66-49e8-b62a-eab3c02e3c8f"
      },
      "outputs": [
        {
          "output_type": "execute_result",
          "data": {
            "text/plain": [
              "          Angle  Repetition  Leg  Joint  Time\n",
              "0      4.682881           1    1      1     0\n",
              "1      5.073127           1    1      1     1\n",
              "2      5.229774           1    1      1     2\n",
              "3      5.083273           1    1      1     3\n",
              "4      4.652399           1    1      1     4\n",
              "...         ...         ...  ...    ...   ...\n",
              "6055  19.639531          10    2      3    96\n",
              "6056  19.222357          10    2      3    97\n",
              "6057  18.974241          10    2      3    98\n",
              "6058  18.908536          10    2      3    99\n",
              "6059  19.003468          10    2      3   100\n",
              "\n",
              "[6060 rows x 5 columns]"
            ],
            "text/html": [
              "\n",
              "  <div id=\"df-cc7b6fd6-d147-4019-888b-db28defbab40\" class=\"colab-df-container\">\n",
              "    <div>\n",
              "<style scoped>\n",
              "    .dataframe tbody tr th:only-of-type {\n",
              "        vertical-align: middle;\n",
              "    }\n",
              "\n",
              "    .dataframe tbody tr th {\n",
              "        vertical-align: top;\n",
              "    }\n",
              "\n",
              "    .dataframe thead th {\n",
              "        text-align: right;\n",
              "    }\n",
              "</style>\n",
              "<table border=\"1\" class=\"dataframe\">\n",
              "  <thead>\n",
              "    <tr style=\"text-align: right;\">\n",
              "      <th></th>\n",
              "      <th>Angle</th>\n",
              "      <th>Repetition</th>\n",
              "      <th>Leg</th>\n",
              "      <th>Joint</th>\n",
              "      <th>Time</th>\n",
              "    </tr>\n",
              "  </thead>\n",
              "  <tbody>\n",
              "    <tr>\n",
              "      <th>0</th>\n",
              "      <td>4.682881</td>\n",
              "      <td>1</td>\n",
              "      <td>1</td>\n",
              "      <td>1</td>\n",
              "      <td>0</td>\n",
              "    </tr>\n",
              "    <tr>\n",
              "      <th>1</th>\n",
              "      <td>5.073127</td>\n",
              "      <td>1</td>\n",
              "      <td>1</td>\n",
              "      <td>1</td>\n",
              "      <td>1</td>\n",
              "    </tr>\n",
              "    <tr>\n",
              "      <th>2</th>\n",
              "      <td>5.229774</td>\n",
              "      <td>1</td>\n",
              "      <td>1</td>\n",
              "      <td>1</td>\n",
              "      <td>2</td>\n",
              "    </tr>\n",
              "    <tr>\n",
              "      <th>3</th>\n",
              "      <td>5.083273</td>\n",
              "      <td>1</td>\n",
              "      <td>1</td>\n",
              "      <td>1</td>\n",
              "      <td>3</td>\n",
              "    </tr>\n",
              "    <tr>\n",
              "      <th>4</th>\n",
              "      <td>4.652399</td>\n",
              "      <td>1</td>\n",
              "      <td>1</td>\n",
              "      <td>1</td>\n",
              "      <td>4</td>\n",
              "    </tr>\n",
              "    <tr>\n",
              "      <th>...</th>\n",
              "      <td>...</td>\n",
              "      <td>...</td>\n",
              "      <td>...</td>\n",
              "      <td>...</td>\n",
              "      <td>...</td>\n",
              "    </tr>\n",
              "    <tr>\n",
              "      <th>6055</th>\n",
              "      <td>19.639531</td>\n",
              "      <td>10</td>\n",
              "      <td>2</td>\n",
              "      <td>3</td>\n",
              "      <td>96</td>\n",
              "    </tr>\n",
              "    <tr>\n",
              "      <th>6056</th>\n",
              "      <td>19.222357</td>\n",
              "      <td>10</td>\n",
              "      <td>2</td>\n",
              "      <td>3</td>\n",
              "      <td>97</td>\n",
              "    </tr>\n",
              "    <tr>\n",
              "      <th>6057</th>\n",
              "      <td>18.974241</td>\n",
              "      <td>10</td>\n",
              "      <td>2</td>\n",
              "      <td>3</td>\n",
              "      <td>98</td>\n",
              "    </tr>\n",
              "    <tr>\n",
              "      <th>6058</th>\n",
              "      <td>18.908536</td>\n",
              "      <td>10</td>\n",
              "      <td>2</td>\n",
              "      <td>3</td>\n",
              "      <td>99</td>\n",
              "    </tr>\n",
              "    <tr>\n",
              "      <th>6059</th>\n",
              "      <td>19.003468</td>\n",
              "      <td>10</td>\n",
              "      <td>2</td>\n",
              "      <td>3</td>\n",
              "      <td>100</td>\n",
              "    </tr>\n",
              "  </tbody>\n",
              "</table>\n",
              "<p>6060 rows × 5 columns</p>\n",
              "</div>\n",
              "    <div class=\"colab-df-buttons\">\n",
              "\n",
              "  <div class=\"colab-df-container\">\n",
              "    <button class=\"colab-df-convert\" onclick=\"convertToInteractive('df-cc7b6fd6-d147-4019-888b-db28defbab40')\"\n",
              "            title=\"Convert this dataframe to an interactive table.\"\n",
              "            style=\"display:none;\">\n",
              "\n",
              "  <svg xmlns=\"http://www.w3.org/2000/svg\" height=\"24px\" viewBox=\"0 -960 960 960\">\n",
              "    <path d=\"M120-120v-720h720v720H120Zm60-500h600v-160H180v160Zm220 220h160v-160H400v160Zm0 220h160v-160H400v160ZM180-400h160v-160H180v160Zm440 0h160v-160H620v160ZM180-180h160v-160H180v160Zm440 0h160v-160H620v160Z\"/>\n",
              "  </svg>\n",
              "    </button>\n",
              "\n",
              "  <style>\n",
              "    .colab-df-container {\n",
              "      display:flex;\n",
              "      gap: 12px;\n",
              "    }\n",
              "\n",
              "    .colab-df-convert {\n",
              "      background-color: #E8F0FE;\n",
              "      border: none;\n",
              "      border-radius: 50%;\n",
              "      cursor: pointer;\n",
              "      display: none;\n",
              "      fill: #1967D2;\n",
              "      height: 32px;\n",
              "      padding: 0 0 0 0;\n",
              "      width: 32px;\n",
              "    }\n",
              "\n",
              "    .colab-df-convert:hover {\n",
              "      background-color: #E2EBFA;\n",
              "      box-shadow: 0px 1px 2px rgba(60, 64, 67, 0.3), 0px 1px 3px 1px rgba(60, 64, 67, 0.15);\n",
              "      fill: #174EA6;\n",
              "    }\n",
              "\n",
              "    .colab-df-buttons div {\n",
              "      margin-bottom: 4px;\n",
              "    }\n",
              "\n",
              "    [theme=dark] .colab-df-convert {\n",
              "      background-color: #3B4455;\n",
              "      fill: #D2E3FC;\n",
              "    }\n",
              "\n",
              "    [theme=dark] .colab-df-convert:hover {\n",
              "      background-color: #434B5C;\n",
              "      box-shadow: 0px 1px 3px 1px rgba(0, 0, 0, 0.15);\n",
              "      filter: drop-shadow(0px 1px 2px rgba(0, 0, 0, 0.3));\n",
              "      fill: #FFFFFF;\n",
              "    }\n",
              "  </style>\n",
              "\n",
              "    <script>\n",
              "      const buttonEl =\n",
              "        document.querySelector('#df-cc7b6fd6-d147-4019-888b-db28defbab40 button.colab-df-convert');\n",
              "      buttonEl.style.display =\n",
              "        google.colab.kernel.accessAllowed ? 'block' : 'none';\n",
              "\n",
              "      async function convertToInteractive(key) {\n",
              "        const element = document.querySelector('#df-cc7b6fd6-d147-4019-888b-db28defbab40');\n",
              "        const dataTable =\n",
              "          await google.colab.kernel.invokeFunction('convertToInteractive',\n",
              "                                                    [key], {});\n",
              "        if (!dataTable) return;\n",
              "\n",
              "        const docLinkHtml = 'Like what you see? Visit the ' +\n",
              "          '<a target=\"_blank\" href=https://colab.research.google.com/notebooks/data_table.ipynb>data table notebook</a>'\n",
              "          + ' to learn more about interactive tables.';\n",
              "        element.innerHTML = '';\n",
              "        dataTable['output_type'] = 'display_data';\n",
              "        await google.colab.output.renderOutput(dataTable, element);\n",
              "        const docLink = document.createElement('div');\n",
              "        docLink.innerHTML = docLinkHtml;\n",
              "        element.appendChild(docLink);\n",
              "      }\n",
              "    </script>\n",
              "  </div>\n",
              "\n",
              "\n",
              "<div id=\"df-589dd6c6-4cf5-4508-942b-9450727813f4\">\n",
              "  <button class=\"colab-df-quickchart\" onclick=\"quickchart('df-589dd6c6-4cf5-4508-942b-9450727813f4')\"\n",
              "            title=\"Suggest charts\"\n",
              "            style=\"display:none;\">\n",
              "\n",
              "<svg xmlns=\"http://www.w3.org/2000/svg\" height=\"24px\"viewBox=\"0 0 24 24\"\n",
              "     width=\"24px\">\n",
              "    <g>\n",
              "        <path d=\"M19 3H5c-1.1 0-2 .9-2 2v14c0 1.1.9 2 2 2h14c1.1 0 2-.9 2-2V5c0-1.1-.9-2-2-2zM9 17H7v-7h2v7zm4 0h-2V7h2v10zm4 0h-2v-4h2v4z\"/>\n",
              "    </g>\n",
              "</svg>\n",
              "  </button>\n",
              "\n",
              "<style>\n",
              "  .colab-df-quickchart {\n",
              "      --bg-color: #E8F0FE;\n",
              "      --fill-color: #1967D2;\n",
              "      --hover-bg-color: #E2EBFA;\n",
              "      --hover-fill-color: #174EA6;\n",
              "      --disabled-fill-color: #AAA;\n",
              "      --disabled-bg-color: #DDD;\n",
              "  }\n",
              "\n",
              "  [theme=dark] .colab-df-quickchart {\n",
              "      --bg-color: #3B4455;\n",
              "      --fill-color: #D2E3FC;\n",
              "      --hover-bg-color: #434B5C;\n",
              "      --hover-fill-color: #FFFFFF;\n",
              "      --disabled-bg-color: #3B4455;\n",
              "      --disabled-fill-color: #666;\n",
              "  }\n",
              "\n",
              "  .colab-df-quickchart {\n",
              "    background-color: var(--bg-color);\n",
              "    border: none;\n",
              "    border-radius: 50%;\n",
              "    cursor: pointer;\n",
              "    display: none;\n",
              "    fill: var(--fill-color);\n",
              "    height: 32px;\n",
              "    padding: 0;\n",
              "    width: 32px;\n",
              "  }\n",
              "\n",
              "  .colab-df-quickchart:hover {\n",
              "    background-color: var(--hover-bg-color);\n",
              "    box-shadow: 0 1px 2px rgba(60, 64, 67, 0.3), 0 1px 3px 1px rgba(60, 64, 67, 0.15);\n",
              "    fill: var(--button-hover-fill-color);\n",
              "  }\n",
              "\n",
              "  .colab-df-quickchart-complete:disabled,\n",
              "  .colab-df-quickchart-complete:disabled:hover {\n",
              "    background-color: var(--disabled-bg-color);\n",
              "    fill: var(--disabled-fill-color);\n",
              "    box-shadow: none;\n",
              "  }\n",
              "\n",
              "  .colab-df-spinner {\n",
              "    border: 2px solid var(--fill-color);\n",
              "    border-color: transparent;\n",
              "    border-bottom-color: var(--fill-color);\n",
              "    animation:\n",
              "      spin 1s steps(1) infinite;\n",
              "  }\n",
              "\n",
              "  @keyframes spin {\n",
              "    0% {\n",
              "      border-color: transparent;\n",
              "      border-bottom-color: var(--fill-color);\n",
              "      border-left-color: var(--fill-color);\n",
              "    }\n",
              "    20% {\n",
              "      border-color: transparent;\n",
              "      border-left-color: var(--fill-color);\n",
              "      border-top-color: var(--fill-color);\n",
              "    }\n",
              "    30% {\n",
              "      border-color: transparent;\n",
              "      border-left-color: var(--fill-color);\n",
              "      border-top-color: var(--fill-color);\n",
              "      border-right-color: var(--fill-color);\n",
              "    }\n",
              "    40% {\n",
              "      border-color: transparent;\n",
              "      border-right-color: var(--fill-color);\n",
              "      border-top-color: var(--fill-color);\n",
              "    }\n",
              "    60% {\n",
              "      border-color: transparent;\n",
              "      border-right-color: var(--fill-color);\n",
              "    }\n",
              "    80% {\n",
              "      border-color: transparent;\n",
              "      border-right-color: var(--fill-color);\n",
              "      border-bottom-color: var(--fill-color);\n",
              "    }\n",
              "    90% {\n",
              "      border-color: transparent;\n",
              "      border-bottom-color: var(--fill-color);\n",
              "    }\n",
              "  }\n",
              "</style>\n",
              "\n",
              "  <script>\n",
              "    async function quickchart(key) {\n",
              "      const quickchartButtonEl =\n",
              "        document.querySelector('#' + key + ' button');\n",
              "      quickchartButtonEl.disabled = true;  // To prevent multiple clicks.\n",
              "      quickchartButtonEl.classList.add('colab-df-spinner');\n",
              "      try {\n",
              "        const charts = await google.colab.kernel.invokeFunction(\n",
              "            'suggestCharts', [key], {});\n",
              "      } catch (error) {\n",
              "        console.error('Error during call to suggestCharts:', error);\n",
              "      }\n",
              "      quickchartButtonEl.classList.remove('colab-df-spinner');\n",
              "      quickchartButtonEl.classList.add('colab-df-quickchart-complete');\n",
              "    }\n",
              "    (() => {\n",
              "      let quickchartButtonEl =\n",
              "        document.querySelector('#df-589dd6c6-4cf5-4508-942b-9450727813f4 button');\n",
              "      quickchartButtonEl.style.display =\n",
              "        google.colab.kernel.accessAllowed ? 'block' : 'none';\n",
              "    })();\n",
              "  </script>\n",
              "</div>\n",
              "    </div>\n",
              "  </div>\n"
            ]
          },
          "metadata": {},
          "execution_count": 23
        }
      ],
      "source": [
        "temp_df = pd.DataFrame({'Angle':ang, 'Repetition': rep, 'Leg': leg, 'Joint' : joi, 'Time': tim})\n",
        "temp_df"
      ]
    },
    {
      "cell_type": "code",
      "execution_count": null,
      "metadata": {
        "id": "kgFR6ZV2COIi"
      },
      "outputs": [],
      "source": [
        "def df_to_X_y2(df, window_size=5):\n",
        "  df_as_np = df.to_numpy()\n",
        "  X = []\n",
        "  y = []\n",
        "  for i in range(len(df_as_np)-window_size):\n",
        "    row = [r for r in df_as_np[i:i+window_size]]\n",
        "    X.append(row)\n",
        "    label = df_as_np[i+window_size][0]\n",
        "    y.append(label)\n",
        "  return np.array(X), np.array(y)"
      ]
    },
    {
      "cell_type": "code",
      "execution_count": null,
      "metadata": {
        "colab": {
          "base_uri": "https://localhost:8080/"
        },
        "id": "jvOgaEJiCQoZ",
        "outputId": "309da04e-ce23-4c46-869c-c3da836026ec"
      },
      "outputs": [
        {
          "output_type": "execute_result",
          "data": {
            "text/plain": [
              "((6055, 5, 5), (6055,))"
            ]
          },
          "metadata": {},
          "execution_count": 25
        }
      ],
      "source": [
        "X2, y2 = df_to_X_y2(temp_df)\n",
        "X2.shape, y2.shape"
      ]
    },
    {
      "cell_type": "code",
      "execution_count": null,
      "metadata": {
        "colab": {
          "base_uri": "https://localhost:8080/"
        },
        "id": "6TKr3ehUCZDm",
        "outputId": "549d2e19-1fc5-4a76-98e0-9c5e4959353f"
      },
      "outputs": [
        {
          "output_type": "execute_result",
          "data": {
            "text/plain": [
              "((5000, 5, 5), (5000,), (500, 5, 5), (500,), (555, 5, 5), (555,))"
            ]
          },
          "metadata": {},
          "execution_count": 26
        }
      ],
      "source": [
        "X2_train, y2_train = X2[:5000], y2[:5000]\n",
        "X2_val, y2_val = X2[5000:5500], y2[5000:5500]\n",
        "X2_test, y2_test = X2[5500:], y2[5500:]\n",
        "X2_train.shape, y2_train.shape, X2_val.shape, y2_val.shape, X2_test.shape, y2_test.shape"
      ]
    },
    {
      "cell_type": "markdown",
      "metadata": {
        "id": "6pZ_3UYICFwQ"
      },
      "source": [
        "###RNN"
      ]
    },
    {
      "cell_type": "code",
      "execution_count": null,
      "metadata": {
        "colab": {
          "base_uri": "https://localhost:8080/"
        },
        "id": "-Vv3piepCle4",
        "outputId": "e9eb9a8a-c275-4ca2-c03b-17bf0551de24"
      },
      "outputs": [
        {
          "output_type": "stream",
          "name": "stdout",
          "text": [
            "Model: \"sequential_4\"\n",
            "_________________________________________________________________\n",
            " Layer (type)                Output Shape              Param #   \n",
            "=================================================================\n",
            " simple_rnn_2 (SimpleRNN)    (None, 128)               17152     \n",
            "                                                                 \n",
            " dense_8 (Dense)             (None, 16)                2064      \n",
            "                                                                 \n",
            " dense_9 (Dense)             (None, 1)                 17        \n",
            "                                                                 \n",
            "=================================================================\n",
            "Total params: 19233 (75.13 KB)\n",
            "Trainable params: 19233 (75.13 KB)\n",
            "Non-trainable params: 0 (0.00 Byte)\n",
            "_________________________________________________________________\n"
          ]
        }
      ],
      "source": [
        "model4 = Sequential()\n",
        "model4.add(InputLayer((5, 5)))\n",
        "model4.add(SimpleRNN(128))\n",
        "model4.add(Dense(16, 'sigmoid'))\n",
        "model4.add(Dense(1, 'linear'))\n",
        "\n",
        "model4.summary()"
      ]
    },
    {
      "cell_type": "code",
      "execution_count": null,
      "metadata": {
        "id": "zz_AVQrUDLKk"
      },
      "outputs": [],
      "source": [
        "cp4 = ModelCheckpoint('model4/', save_best_only=True)\n",
        "model4.compile(loss=MeanSquaredError(), optimizer=Adam(learning_rate=0.001), metrics=[RootMeanSquaredError()])"
      ]
    },
    {
      "cell_type": "code",
      "execution_count": null,
      "metadata": {
        "colab": {
          "base_uri": "https://localhost:8080/"
        },
        "id": "j2jY0j_6DOqB",
        "outputId": "5185b44e-3a90-414c-f51a-b6b0d8650a6e"
      },
      "outputs": [
        {
          "output_type": "stream",
          "name": "stdout",
          "text": [
            "Epoch 1/20\n",
            "157/157 [==============================] - 4s 19ms/step - loss: 279.9831 - root_mean_squared_error: 16.7327 - val_loss: 308.8656 - val_root_mean_squared_error: 17.5746\n",
            "Epoch 2/20\n",
            "157/157 [==============================] - 4s 24ms/step - loss: 240.7437 - root_mean_squared_error: 15.5159 - val_loss: 275.9102 - val_root_mean_squared_error: 16.6105\n",
            "Epoch 3/20\n",
            "157/157 [==============================] - 3s 19ms/step - loss: 215.0193 - root_mean_squared_error: 14.6635 - val_loss: 249.4609 - val_root_mean_squared_error: 15.7943\n",
            "Epoch 4/20\n",
            "157/157 [==============================] - 3s 22ms/step - loss: 194.0694 - root_mean_squared_error: 13.9309 - val_loss: 227.6463 - val_root_mean_squared_error: 15.0880\n",
            "Epoch 5/20\n",
            "157/157 [==============================] - 3s 17ms/step - loss: 176.8599 - root_mean_squared_error: 13.2989 - val_loss: 209.0142 - val_root_mean_squared_error: 14.4573\n",
            "Epoch 6/20\n",
            "157/157 [==============================] - 3s 19ms/step - loss: 162.3569 - root_mean_squared_error: 12.7419 - val_loss: 192.8641 - val_root_mean_squared_error: 13.8876\n",
            "Epoch 7/20\n",
            "157/157 [==============================] - 4s 23ms/step - loss: 149.9677 - root_mean_squared_error: 12.2461 - val_loss: 178.7932 - val_root_mean_squared_error: 13.3714\n",
            "Epoch 8/20\n",
            "157/157 [==============================] - 3s 17ms/step - loss: 139.0425 - root_mean_squared_error: 11.7916 - val_loss: 166.0769 - val_root_mean_squared_error: 12.8871\n",
            "Epoch 9/20\n",
            "157/157 [==============================] - 3s 21ms/step - loss: 129.4026 - root_mean_squared_error: 11.3755 - val_loss: 154.8815 - val_root_mean_squared_error: 12.4451\n",
            "Epoch 10/20\n",
            "157/157 [==============================] - 8s 53ms/step - loss: 120.7483 - root_mean_squared_error: 10.9886 - val_loss: 144.6354 - val_root_mean_squared_error: 12.0264\n",
            "Epoch 11/20\n",
            "157/157 [==============================] - 8s 50ms/step - loss: 112.8254 - root_mean_squared_error: 10.6219 - val_loss: 135.5795 - val_root_mean_squared_error: 11.6439\n",
            "Epoch 12/20\n",
            "157/157 [==============================] - 3s 17ms/step - loss: 105.6236 - root_mean_squared_error: 10.2773 - val_loss: 126.8404 - val_root_mean_squared_error: 11.2623\n",
            "Epoch 13/20\n",
            "157/157 [==============================] - 3s 17ms/step - loss: 98.9624 - root_mean_squared_error: 9.9480 - val_loss: 118.9817 - val_root_mean_squared_error: 10.9079\n",
            "Epoch 14/20\n",
            "157/157 [==============================] - 4s 23ms/step - loss: 92.5476 - root_mean_squared_error: 9.6202 - val_loss: 111.2657 - val_root_mean_squared_error: 10.5483\n",
            "Epoch 15/20\n",
            "157/157 [==============================] - 3s 19ms/step - loss: 86.5664 - root_mean_squared_error: 9.3041 - val_loss: 103.9580 - val_root_mean_squared_error: 10.1960\n",
            "Epoch 16/20\n",
            "157/157 [==============================] - 3s 17ms/step - loss: 80.9919 - root_mean_squared_error: 8.9995 - val_loss: 97.1542 - val_root_mean_squared_error: 9.8567\n",
            "Epoch 17/20\n",
            "157/157 [==============================] - 4s 23ms/step - loss: 75.4456 - root_mean_squared_error: 8.6859 - val_loss: 90.3688 - val_root_mean_squared_error: 9.5063\n",
            "Epoch 18/20\n",
            "157/157 [==============================] - 3s 20ms/step - loss: 70.3201 - root_mean_squared_error: 8.3857 - val_loss: 84.2278 - val_root_mean_squared_error: 9.1776\n",
            "Epoch 19/20\n",
            "157/157 [==============================] - 4s 23ms/step - loss: 65.3844 - root_mean_squared_error: 8.0861 - val_loss: 78.3140 - val_root_mean_squared_error: 8.8495\n",
            "Epoch 20/20\n",
            "157/157 [==============================] - 3s 17ms/step - loss: 60.5925 - root_mean_squared_error: 7.7841 - val_loss: 72.6134 - val_root_mean_squared_error: 8.5213\n"
          ]
        },
        {
          "output_type": "execute_result",
          "data": {
            "text/plain": [
              "<keras.src.callbacks.History at 0x792b9b68c070>"
            ]
          },
          "metadata": {},
          "execution_count": 34
        }
      ],
      "source": [
        "model4.fit(X2_train, y2_train, validation_data=(X2_val, y2_val), epochs=20, callbacks=[cp4])"
      ]
    },
    {
      "cell_type": "code",
      "execution_count": null,
      "metadata": {
        "id": "QoDpplXbDUsJ"
      },
      "outputs": [],
      "source": [
        "plot_predictions1(model4, X2_test, y2_test)"
      ]
    },
    {
      "cell_type": "markdown",
      "metadata": {
        "id": "aFKD3E98DZCg"
      },
      "source": [
        "###GRU"
      ]
    },
    {
      "cell_type": "code",
      "execution_count": null,
      "metadata": {
        "id": "mHFFy2OhJ84b"
      },
      "outputs": [],
      "source": [
        "model5 = Sequential()\n",
        "model5.add(InputLayer((5, 5)))\n",
        "model5.add(GRU(128))\n",
        "model5.add(Dense(16, 'sigmoid'))\n",
        "model5.add(Dense(1, 'linear'))\n",
        "\n",
        "model5.summary()"
      ]
    },
    {
      "cell_type": "code",
      "execution_count": null,
      "metadata": {
        "id": "xzQEvfT5KEy0"
      },
      "outputs": [],
      "source": [
        "cp5 = ModelCheckpoint('model5/', save_best_only=True)\n",
        "model5.compile(loss=MeanSquaredError(), optimizer=Adam(learning_rate=0.001), metrics=[RootMeanSquaredError()])"
      ]
    },
    {
      "cell_type": "code",
      "execution_count": null,
      "metadata": {
        "id": "r7sU3QkpKYp9"
      },
      "outputs": [],
      "source": [
        "model5.fit(X2_train, y2_train, validation_data=(X2_val, y2_val), epochs=20, callbacks=[cp4])"
      ]
    },
    {
      "cell_type": "code",
      "execution_count": null,
      "metadata": {
        "id": "nFMMGXDfKcZF"
      },
      "outputs": [],
      "source": [
        "plot_predictions1(model5, X2_test, y2_test)"
      ]
    },
    {
      "cell_type": "markdown",
      "metadata": {
        "id": "vXOdYe06Kk8H"
      },
      "source": [
        "###LSTM"
      ]
    },
    {
      "cell_type": "code",
      "execution_count": null,
      "metadata": {
        "id": "LtDdRHCCKmIE"
      },
      "outputs": [],
      "source": [
        "model6 = Sequential()\n",
        "model6.add(InputLayer((5, 5)))\n",
        "model6.add(LSTM(128))\n",
        "model6.add(Dense(16, 'sigmoid'))\n",
        "model6.add(Dense(1, 'linear'))\n",
        "\n",
        "model6.summary()"
      ]
    },
    {
      "cell_type": "code",
      "execution_count": null,
      "metadata": {
        "id": "G7s_laOYKoG4"
      },
      "outputs": [],
      "source": [
        "cp6 = ModelCheckpoint('model6/', save_best_only=True)\n",
        "model6.compile(loss=MeanSquaredError(), optimizer=Adam(learning_rate=0.001), metrics=[RootMeanSquaredError()])"
      ]
    },
    {
      "cell_type": "code",
      "execution_count": null,
      "metadata": {
        "id": "prs0ebACKrEe"
      },
      "outputs": [],
      "source": [
        "model6.fit(X2_train, y2_train, validation_data=(X2_val, y2_val), epochs=20, callbacks=[cp4])"
      ]
    },
    {
      "cell_type": "code",
      "execution_count": null,
      "metadata": {
        "id": "cqcq017mKvje"
      },
      "outputs": [],
      "source": [
        "plot_predictions1(model6, X2_test, y2_test)"
      ]
    },
    {
      "cell_type": "markdown",
      "metadata": {
        "id": "ZsmxI-mVwzte"
      },
      "source": [
        "# Kesimpulan"
      ]
    },
    {
      "cell_type": "markdown",
      "metadata": {
        "id": "x7uY6V00w1yt"
      },
      "source": [
        "Berdasarkan ketiga metode yang digunakan, dapat diketahui bahwa pendekatan yang paling tepat merupakan pendekatan LSTM dengan ujicoba multivariate. Hal ini dikarenakan, pada ujicoba univariate, data yang digunakan sebagai data acuan hanya merupakan *features* angle. Sedangkan pada ujicoba multivariate, data yang digunakan terdiri dari beberapa *features*, sehingga, hasil prediksinya pun lebih tepat.\n",
        "\n",
        "Mengapa diantara ketiga metode LSTM merupakan pendekatan yang paling akurat? Karena LSTM memiliki kemampuan untuk mengingat (karena memiliki input-output gate), sehingga cocok mengolah dataset time-sequence yang panjang. Berbeda dengan RNN yang kurang optimal dalam mengingat dan GRU juga kurang akurat untuk dataset ini."
      ]
    }
  ],
  "metadata": {
    "colab": {
      "provenance": []
    },
    "kernelspec": {
      "display_name": "Python 3",
      "name": "python3"
    },
    "language_info": {
      "name": "python"
    }
  },
  "nbformat": 4,
  "nbformat_minor": 0
}